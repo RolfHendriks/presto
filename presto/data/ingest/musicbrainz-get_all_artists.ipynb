{
 "cells": [
  {
   "cell_type": "markdown",
   "id": "5ac2bb98-79c0-4c0e-b965-0b653d2d095d",
   "metadata": {},
   "source": [
    "# MusicBrainz All Artist List\n",
    "\n",
    "Extracts a flat list of worldwide unique artists from the MusicBrainz database. The main use case for this flat list is to clean our product data by removing products that are falsely classified as music.\n",
    "\n",
    "As a prerequisite before running this script, download the full MusicBrainz database and unzip it into the data/raw folder:\n",
    "https://musicbrainz.org/doc/MusicBrainz_Database/Download#mbdump.tar.bz2"
   ]
  },
  {
   "cell_type": "code",
   "execution_count": 1,
   "id": "ec2a2285-681c-4fc8-b821-583bc5fe2eae",
   "metadata": {},
   "outputs": [],
   "source": [
    "import csv\n",
    "import time"
   ]
  },
  {
   "cell_type": "code",
   "execution_count": 6,
   "id": "7d716bb7",
   "metadata": {},
   "outputs": [],
   "source": [
    "artists_path = '../raw/all_artists.txt'"
   ]
  },
  {
   "cell_type": "code",
   "execution_count": null,
   "id": "5f53fe9f-a6b8-4475-83c1-5e245eaa2847",
   "metadata": {},
   "outputs": [
    {
     "name": "stdout",
     "output_type": "stream",
     "text": [
      "0.002\tOpened file\n",
      "2.717\tExtracted artists\n",
      "4.064\tSorted artists\n",
      "4.390\tSaved artists\n"
     ]
    }
   ],
   "source": [
    "t = time.perf_counter()\n",
    "def profile(description: str, timestamp = t):\n",
    "    elapsed = time.perf_counter() - timestamp\n",
    "    print(f'{elapsed:.3f}\\t{description}')\n",
    "\n",
    "with open('../raw/mbdump/mbdump/artist') as file:\n",
    "    profile('Opened file')\n",
    "    artists = [line_values[2] for line_values in csv.reader(file, delimiter = '\\t')]\n",
    "profile('Extracted artists')\n",
    "artists = list(sorted(list(set(artists))))\n",
    "profile('Sorted artists')\n",
    "\n",
    "\n",
    "with open(artists_path, 'w') as file:\n",
    "    for artist in artists:\n",
    "        file.write(artist)\n",
    "        file.write('\\n')\n",
    "profile('Saved artists')"
   ]
  },
  {
   "cell_type": "code",
   "execution_count": 8,
   "id": "9ca8dfdc-e3fe-4491-b468-9c88897b60cb",
   "metadata": {},
   "outputs": [
    {
     "data": {
      "text/html": [
       "<div>\n",
       "<style scoped>\n",
       "    .dataframe tbody tr th:only-of-type {\n",
       "        vertical-align: middle;\n",
       "    }\n",
       "\n",
       "    .dataframe tbody tr th {\n",
       "        vertical-align: top;\n",
       "    }\n",
       "\n",
       "    .dataframe thead th {\n",
       "        text-align: right;\n",
       "    }\n",
       "</style>\n",
       "<table border=\"1\" class=\"dataframe\">\n",
       "  <thead>\n",
       "    <tr style=\"text-align: right;\">\n",
       "      <th></th>\n",
       "      <th>? ? ?)</th>\n",
       "      <th>? ? ?).1</th>\n",
       "    </tr>\n",
       "  </thead>\n",
       "  <tbody>\n",
       "    <tr>\n",
       "      <th>0</th>\n",
       "      <td>! ( invisible jet ) !</td>\n",
       "      <td>NaN</td>\n",
       "    </tr>\n",
       "    <tr>\n",
       "      <th>1</th>\n",
       "      <td>! Obtain?</td>\n",
       "      <td>NaN</td>\n",
       "    </tr>\n",
       "    <tr>\n",
       "      <th>2</th>\n",
       "      <td>!!!</td>\n",
       "      <td>NaN</td>\n",
       "    </tr>\n",
       "    <tr>\n",
       "      <th>3</th>\n",
       "      <td>!!*</td>\n",
       "      <td>NaN</td>\n",
       "    </tr>\n",
       "    <tr>\n",
       "      <th>4</th>\n",
       "      <td>!!KOJI!!</td>\n",
       "      <td>NaN</td>\n",
       "    </tr>\n",
       "    <tr>\n",
       "      <th>...</th>\n",
       "      <td>...</td>\n",
       "      <td>...</td>\n",
       "    </tr>\n",
       "    <tr>\n",
       "      <th>2240228</th>\n",
       "      <td>🧚</td>\n",
       "      <td>NaN</td>\n",
       "    </tr>\n",
       "    <tr>\n",
       "      <th>2240229</th>\n",
       "      <td>🧦</td>\n",
       "      <td>NaN</td>\n",
       "    </tr>\n",
       "    <tr>\n",
       "      <th>2240230</th>\n",
       "      <td>🧫</td>\n",
       "      <td>NaN</td>\n",
       "    </tr>\n",
       "    <tr>\n",
       "      <th>2240231</th>\n",
       "      <td>🧿🧨DJ📿🧬🧫🔮PSMOKE⚗️🧪</td>\n",
       "      <td>NaN</td>\n",
       "    </tr>\n",
       "    <tr>\n",
       "      <th>2240232</th>\n",
       "      <td>𠮷川美矩</td>\n",
       "      <td>NaN</td>\n",
       "    </tr>\n",
       "  </tbody>\n",
       "</table>\n",
       "<p>2240233 rows × 2 columns</p>\n",
       "</div>"
      ],
      "text/plain": [
       "                        ? ? ?)  ? ? ?).1\n",
       "0        ! ( invisible jet ) !       NaN\n",
       "1                    ! Obtain?       NaN\n",
       "2                          !!!       NaN\n",
       "3                          !!*       NaN\n",
       "4                     !!KOJI!!       NaN\n",
       "...                        ...       ...\n",
       "2240228                      🧚       NaN\n",
       "2240229                      🧦       NaN\n",
       "2240230                      🧫       NaN\n",
       "2240231      🧿🧨DJ📿🧬🧫🔮PSMOKE⚗️🧪       NaN\n",
       "2240232                   𠮷川美矩       NaN\n",
       "\n",
       "[2240233 rows x 2 columns]"
      ]
     },
     "execution_count": 8,
     "metadata": {},
     "output_type": "execute_result"
    }
   ],
   "source": [
    "import pandas as pd\n",
    "pd.read_csv(artists_path, sep = '\\t')"
   ]
  },
  {
   "cell_type": "code",
   "execution_count": null,
   "id": "26c1e4e3",
   "metadata": {},
   "outputs": [],
   "source": []
  }
 ],
 "metadata": {
  "kernelspec": {
   "display_name": "base",
   "language": "python",
   "name": "python3"
  },
  "language_info": {
   "codemirror_mode": {
    "name": "ipython",
    "version": 3
   },
   "file_extension": ".py",
   "mimetype": "text/x-python",
   "name": "python",
   "nbconvert_exporter": "python",
   "pygments_lexer": "ipython3",
   "version": "3.12.4"
  }
 },
 "nbformat": 4,
 "nbformat_minor": 5
}
