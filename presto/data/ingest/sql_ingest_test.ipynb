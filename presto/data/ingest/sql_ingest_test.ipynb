{
 "cells": [
  {
   "cell_type": "markdown",
   "metadata": {},
   "source": [
    "# Test - SQL Ingest Helpers"
   ]
  },
  {
   "cell_type": "markdown",
   "metadata": {},
   "source": [
    "### get_single_value"
   ]
  },
  {
   "cell_type": "code",
   "execution_count": 7,
   "metadata": {},
   "outputs": [
    {
     "name": "stdout",
     "output_type": "stream",
     "text": [
      "All tests passed\n"
     ]
    }
   ],
   "source": [
    "import sql_ingest as ingest\n",
    "\n",
    "# to do: use an actual unit testing framework instead\n",
    "cases = [\n",
    "    (\"['value']\", 'value'),\n",
    "    (['value'], 'value'),\n",
    "    ('value', 'value'),\n",
    "    ([], ''),\n",
    "    (\"['value', 'value2', 'value3']\", 'value, value2, value3')\n",
    "]\n",
    "\n",
    "def verify_single_value(input: str, output: str):\n",
    "    value = ingest.get_single_value(input)\n",
    "    if value != output:\n",
    "        raise ValueError(f'get_single_value({repr(input)}): expected {repr(output)}, got {repr(value)}')\n",
    "\n",
    "for input, output in cases:\n",
    "    verify_single_value(input, output)\n",
    "print('All tests passed')"
   ]
  },
  {
   "cell_type": "markdown",
   "metadata": {},
   "source": []
  }
 ],
 "metadata": {
  "kernelspec": {
   "display_name": "base",
   "language": "python",
   "name": "python3"
  },
  "language_info": {
   "codemirror_mode": {
    "name": "ipython",
    "version": 3
   },
   "file_extension": ".py",
   "mimetype": "text/x-python",
   "name": "python",
   "nbconvert_exporter": "python",
   "pygments_lexer": "ipython3",
   "version": "3.12.4"
  }
 },
 "nbformat": 4,
 "nbformat_minor": 2
}
