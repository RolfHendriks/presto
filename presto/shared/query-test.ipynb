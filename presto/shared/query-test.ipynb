{
 "cells": [
  {
   "cell_type": "markdown",
   "metadata": {},
   "source": [
    "# Normalize Testing\n",
    "This notebook tests string normalization used as the foundation for robust searching"
   ]
  },
  {
   "cell_type": "code",
   "execution_count": 2,
   "metadata": {},
   "outputs": [
    {
     "ename": "ModuleNotFoundError",
     "evalue": "No module named 'search'",
     "output_type": "error",
     "traceback": [
      "\u001b[0;31m---------------------------------------------------------------------------\u001b[0m",
      "\u001b[0;31mModuleNotFoundError\u001b[0m                       Traceback (most recent call last)",
      "Cell \u001b[0;32mIn[2], line 1\u001b[0m\n\u001b[0;32m----> 1\u001b[0m \u001b[38;5;28;01mimport\u001b[39;00m \u001b[38;5;21;01mquery\u001b[39;00m\n\u001b[1;32m      3\u001b[0m \u001b[38;5;28;01mdef\u001b[39;00m \u001b[38;5;21msearch_equal\u001b[39m(a: \u001b[38;5;28mstr\u001b[39m, b: \u001b[38;5;28mstr\u001b[39m):\n\u001b[1;32m      4\u001b[0m     a_norm \u001b[38;5;241m=\u001b[39m query\u001b[38;5;241m.\u001b[39msearch_text(a)\n",
      "File \u001b[0;32m~/Desktop/GA/project-6/musicmate/query/query.py:3\u001b[0m\n\u001b[1;32m      1\u001b[0m \u001b[38;5;28;01mimport\u001b[39;00m \u001b[38;5;21;01mpandas\u001b[39;00m \u001b[38;5;28;01mas\u001b[39;00m \u001b[38;5;21;01mpd\u001b[39;00m\n\u001b[1;32m      2\u001b[0m \u001b[38;5;28;01mimport\u001b[39;00m \u001b[38;5;21;01msqlite3\u001b[39;00m \u001b[38;5;28;01mas\u001b[39;00m \u001b[38;5;21;01msql\u001b[39;00m\n\u001b[0;32m----> 3\u001b[0m \u001b[38;5;28;01mfrom\u001b[39;00m \u001b[38;5;21;01msearch\u001b[39;00m \u001b[38;5;28;01mimport\u001b[39;00m search_text\n\u001b[1;32m      5\u001b[0m query_verbosity \u001b[38;5;241m=\u001b[39m \u001b[38;5;241m1\u001b[39m\n\u001b[1;32m      6\u001b[0m \u001b[38;5;28;01mdef\u001b[39;00m \u001b[38;5;21mquery\u001b[39m(q: \u001b[38;5;28mstr\u001b[39m, conn: sql\u001b[38;5;241m.\u001b[39mConnection, params \u001b[38;5;241m=\u001b[39m \u001b[38;5;28;01mNone\u001b[39;00m, verbosity \u001b[38;5;241m=\u001b[39m query_verbosity, query_description \u001b[38;5;241m=\u001b[39m \u001b[38;5;28;01mNone\u001b[39;00m) \u001b[38;5;241m-\u001b[39m\u001b[38;5;241m>\u001b[39m pd\u001b[38;5;241m.\u001b[39mDataFrame:\n",
      "\u001b[0;31mModuleNotFoundError\u001b[0m: No module named 'search'"
     ]
    }
   ],
   "source": [
    "import query\n",
    "\n",
    "def search_equal(a: str, b: str):\n",
    "    a_norm = query.search_text(a)\n",
    "    b_norm = query.search_text(b)\n",
    "    if a_norm != b_norm:\n",
    "        raise ValueError(f\"Unequal search strings: '{a}' vs '{b}' ('{a_norm}' vs '{b_norm}')\")\n",
    "\n",
    "search_equal('The Offspring', 'Offspring')\n",
    "search_equal('Who', 'Who, The')\n",
    "search_equal('R.E.M', 'R E M')\n",
    "search_equal('R E M', 'rem')\n",
    "search_equal('Céline Dion', 'Celine Dion')\n",
    "search_equal('Blümchen', 'Blumchen')\n",
    "search_equal('Ray Charles', 'Charles, Ray')\n",
    "search_equal('7', 7)\n",
    "#search_equal('Blümchen', 'Bluemchen') # fails\n",
    "\n",
    "print('All tests passed')"
   ]
  },
  {
   "cell_type": "code",
   "execution_count": null,
   "metadata": {},
   "outputs": [],
   "source": []
  }
 ],
 "metadata": {
  "kernelspec": {
   "display_name": "base",
   "language": "python",
   "name": "python3"
  },
  "language_info": {
   "codemirror_mode": {
    "name": "ipython",
    "version": 3
   },
   "file_extension": ".py",
   "mimetype": "text/x-python",
   "name": "python",
   "nbconvert_exporter": "python",
   "pygments_lexer": "ipython3",
   "version": "3.12.4"
  }
 },
 "nbformat": 4,
 "nbformat_minor": 2
}
