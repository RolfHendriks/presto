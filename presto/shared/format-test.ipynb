{
 "cells": [
  {
   "cell_type": "markdown",
   "metadata": {},
   "source": [
    "# Tests - Formatting"
   ]
  },
  {
   "cell_type": "code",
   "execution_count": 1,
   "metadata": {},
   "outputs": [
    {
     "name": "stdout",
     "output_type": "stream",
     "text": [
      "format_number: all tests passed\n",
      "format percent: all cases passed\n"
     ]
    }
   ],
   "source": [
    "import format\n",
    "\n",
    "cases = [\n",
    "    (1_234_567, '1.2M'),\n",
    "    (987_654, '987.7K'),\n",
    "    (1_234, '1.2K'),\n",
    "    (987, '987'),\n",
    "\n",
    "    (1.239, '1.24'),\n",
    "    (100.0, '100.00'),\n",
    "\n",
    "    ('x', 'x'),\n",
    "    ('1.2345', '1.2345')\n",
    "]\n",
    "\n",
    "for input, expectation in cases:\n",
    "    result = format.describe_number(input)\n",
    "    if result != expectation:\n",
    "        raise ValueError(f\"format_number({repr(input)}): expected {repr(expectation)}, got {repr(result)}\")\n",
    "print('format_number: all tests passed')\n",
    "\n",
    "cases = [\n",
    "    (0, '0%'),\n",
    "    (0.000012345678, '~0%'),\n",
    "    (0.00123, '0.1%'),\n",
    "    (0.0123, '1.2%'),\n",
    "    (0.0998, '10%'),\n",
    "    (0.1234, '12%'),\n",
    "    (0.9876, '99%'),\n",
    "    (0.999, '100%'),\n",
    "    (1.0, '100%'),\n",
    "    (100, '10,000%'),\n",
    "\n",
    "    # non-numeric values\n",
    "    ('0.1', '0.1')\n",
    "]\n",
    "\n",
    "for input, output in cases:\n",
    "    result = format.to_percent(input)\n",
    "    if result != output:\n",
    "        raise ValueError(f'percent({repr(input)}): expected {repr(output)}, got {repr(result)}')\n",
    "print(\"format percent: all cases passed\")"
   ]
  },
  {
   "cell_type": "code",
   "execution_count": null,
   "metadata": {},
   "outputs": [],
   "source": []
  }
 ],
 "metadata": {
  "kernelspec": {
   "display_name": "base",
   "language": "python",
   "name": "python3"
  },
  "language_info": {
   "codemirror_mode": {
    "name": "ipython",
    "version": 3
   },
   "file_extension": ".py",
   "mimetype": "text/x-python",
   "name": "python",
   "nbconvert_exporter": "python",
   "pygments_lexer": "ipython3",
   "version": "3.12.4"
  }
 },
 "nbformat": 4,
 "nbformat_minor": 2
}
