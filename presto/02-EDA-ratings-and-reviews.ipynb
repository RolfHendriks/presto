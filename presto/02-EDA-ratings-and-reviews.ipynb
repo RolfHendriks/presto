{
 "cells": [
  {
   "cell_type": "markdown",
   "metadata": {},
   "source": [
    "# Ratings and Reviews\n",
    "\n",
    "This notebook explores how to make use of and visualize product ratings and reviews"
   ]
  },
  {
   "cell_type": "code",
   "execution_count": 28,
   "metadata": {},
   "outputs": [
    {
     "name": "stdout",
     "output_type": "stream",
     "text": [
      "The autoreload extension is already loaded. To reload it, use:\n",
      "  %reload_ext autoreload\n"
     ]
    }
   ],
   "source": [
    "%load_ext autoreload\n",
    "%autoreload \n",
    "\n",
    "import pandas as pd\n",
    "import matplotlib.pyplot as plt\n",
    "\n",
    "import shared.viz as viz\n",
    "import shared.query as q\n",
    "import shared.format as format\n",
    "import shared.reviews as rev\n",
    "\n",
    "#viz.set_style()\n",
    "conn = q.connect()"
   ]
  },
  {
   "cell_type": "markdown",
   "metadata": {},
   "source": [
    "## Load Data"
   ]
  },
  {
   "cell_type": "code",
   "execution_count": 4,
   "metadata": {},
   "outputs": [
    {
     "name": "stdout",
     "output_type": "stream",
     "text": [
      "find_products: 48 results in 1.741 seconds\n"
     ]
    },
    {
     "data": {
      "text/plain": [
       "id                                                     B000IEZE3G\n",
       "reviews                                                      6711\n",
       "title                       Harry Potter and The Sorcerer's Stone\n",
       "creator                                             J. K. Rowling\n",
       "publisher                                   Bloomsbury Publishing\n",
       "description     Celebrate 20 years of Harry Potter magic! Harr...\n",
       "release_date                                           2014-01-09\n",
       "category                                                    Books\n",
       "subcategory                                      Juvenile Fiction\n",
       "Name: 0, dtype: object"
      ]
     },
     "execution_count": 4,
     "metadata": {},
     "output_type": "execute_result"
    }
   ],
   "source": [
    "text = 'Harry Potter'\n",
    "category = 'Books'\n",
    "product = q.find_products(category, text, conn).iloc[0]\n",
    "product"
   ]
  },
  {
   "cell_type": "markdown",
   "metadata": {},
   "source": [
    "## Ratings"
   ]
  },
  {
   "cell_type": "markdown",
   "metadata": {},
   "source": [
    "Ratings are essential to Presto's recommendations - Presto finds similar products by looking only at ratings by various users.\n",
    "\n",
    "To help return high-quality results quickly, Presto filters low-quality reviews based on users' helpful/unhelpful votes."
   ]
  },
  {
   "cell_type": "code",
   "execution_count": 5,
   "metadata": {},
   "outputs": [
    {
     "name": "stdout",
     "output_type": "stream",
     "text": [
      "get_reviews: 6711 results in 0.070 seconds\n"
     ]
    },
    {
     "data": {
      "text/html": [
       "<div>\n",
       "<style scoped>\n",
       "    .dataframe tbody tr th:only-of-type {\n",
       "        vertical-align: middle;\n",
       "    }\n",
       "\n",
       "    .dataframe tbody tr th {\n",
       "        vertical-align: top;\n",
       "    }\n",
       "\n",
       "    .dataframe thead th {\n",
       "        text-align: right;\n",
       "    }\n",
       "</style>\n",
       "<table border=\"1\" class=\"dataframe\">\n",
       "  <thead>\n",
       "    <tr style=\"text-align: right;\">\n",
       "      <th></th>\n",
       "      <th>user_id</th>\n",
       "      <th>product_id</th>\n",
       "      <th>title</th>\n",
       "      <th>review</th>\n",
       "      <th>rating</th>\n",
       "      <th>upvotes</th>\n",
       "      <th>downvotes</th>\n",
       "      <th>timestamp</th>\n",
       "    </tr>\n",
       "  </thead>\n",
       "  <tbody>\n",
       "    <tr>\n",
       "      <th>0</th>\n",
       "      <td>None</td>\n",
       "      <td>B000IEZE3G</td>\n",
       "      <td>A great book, I couldn't stop reading it.</td>\n",
       "      <td>Famous before he can talk, Harry Potter the so...</td>\n",
       "      <td>5</td>\n",
       "      <td>0</td>\n",
       "      <td>0</td>\n",
       "      <td>926640000</td>\n",
       "    </tr>\n",
       "    <tr>\n",
       "      <th>1</th>\n",
       "      <td>None</td>\n",
       "      <td>B000IEZE3G</td>\n",
       "      <td>I believe this is the greatest book in history.</td>\n",
       "      <td>I believe this is the greatest book in history...</td>\n",
       "      <td>5</td>\n",
       "      <td>0</td>\n",
       "      <td>0</td>\n",
       "      <td>926640000</td>\n",
       "    </tr>\n",
       "  </tbody>\n",
       "</table>\n",
       "</div>"
      ],
      "text/plain": [
       "  user_id  product_id                                            title  \\\n",
       "0    None  B000IEZE3G        A great book, I couldn't stop reading it.   \n",
       "1    None  B000IEZE3G  I believe this is the greatest book in history.   \n",
       "\n",
       "                                              review  rating  upvotes  \\\n",
       "0  Famous before he can talk, Harry Potter the so...       5        0   \n",
       "1  I believe this is the greatest book in history...       5        0   \n",
       "\n",
       "   downvotes  timestamp  \n",
       "0          0  926640000  \n",
       "1          0  926640000  "
      ]
     },
     "execution_count": 5,
     "metadata": {},
     "output_type": "execute_result"
    }
   ],
   "source": [
    "reviews = q.get_reviews(product.id, conn) # reviews include a rating\n",
    "reviews[:2]"
   ]
  },
  {
   "cell_type": "markdown",
   "metadata": {},
   "source": [
    "### Rating Quality\n",
    "\n",
    "Presto can sort reviews by quality. The underlying algorithm pads each review's upvotes and downvotes by the average amount. This seems very effective at surfacing the most helpful and unhelpful reviews, as seen by the results below:"
   ]
  },
  {
   "cell_type": "code",
   "execution_count": 6,
   "metadata": {},
   "outputs": [
    {
     "name": "stdout",
     "output_type": "stream",
     "text": [
      "BEST + WORST REVIEWS:\n"
     ]
    },
    {
     "data": {
      "text/html": [
       "<div>\n",
       "<style scoped>\n",
       "    .dataframe tbody tr th:only-of-type {\n",
       "        vertical-align: middle;\n",
       "    }\n",
       "\n",
       "    .dataframe tbody tr th {\n",
       "        vertical-align: top;\n",
       "    }\n",
       "\n",
       "    .dataframe thead th {\n",
       "        text-align: right;\n",
       "    }\n",
       "</style>\n",
       "<table border=\"1\" class=\"dataframe\">\n",
       "  <thead>\n",
       "    <tr style=\"text-align: right;\">\n",
       "      <th></th>\n",
       "      <th>user_id</th>\n",
       "      <th>product_id</th>\n",
       "      <th>title</th>\n",
       "      <th>review</th>\n",
       "      <th>rating</th>\n",
       "      <th>upvotes</th>\n",
       "      <th>downvotes</th>\n",
       "      <th>timestamp</th>\n",
       "      <th>quality</th>\n",
       "    </tr>\n",
       "  </thead>\n",
       "  <tbody>\n",
       "    <tr>\n",
       "      <th>3004</th>\n",
       "      <td>A3IB1W0SVED0Z3</td>\n",
       "      <td>B000IEZE3G</td>\n",
       "      <td>A magical read&amp;#65533;in more ways than one!</td>\n",
       "      <td>What a wonderful book! I read it after my 11-y...</td>\n",
       "      <td>5</td>\n",
       "      <td>45</td>\n",
       "      <td>2</td>\n",
       "      <td>959040000</td>\n",
       "      <td>11.895324</td>\n",
       "    </tr>\n",
       "    <tr>\n",
       "      <th>3008</th>\n",
       "      <td>A3KZC2TLRZLOA0</td>\n",
       "      <td>B000IEZE3G</td>\n",
       "      <td>Anniversary Edition nice but not essential.</td>\n",
       "      <td>In today's economy, customers buying books nee...</td>\n",
       "      <td>5</td>\n",
       "      <td>45</td>\n",
       "      <td>3</td>\n",
       "      <td>1221523200</td>\n",
       "      <td>9.499265</td>\n",
       "    </tr>\n",
       "    <tr>\n",
       "      <th>3009</th>\n",
       "      <td>A2CQXJ7FPVJTYV</td>\n",
       "      <td>B000IEZE3G</td>\n",
       "      <td>Harry Potter and the Sorcerer's Stone (Book 1)</td>\n",
       "      <td>First of all, I am 52 years old. While I have ...</td>\n",
       "      <td>5</td>\n",
       "      <td>35</td>\n",
       "      <td>2</td>\n",
       "      <td>950054400</td>\n",
       "      <td>9.372961</td>\n",
       "    </tr>\n",
       "    <tr>\n",
       "      <th>3007</th>\n",
       "      <td>None</td>\n",
       "      <td>B000IEZE3G</td>\n",
       "      <td>Ages 9-12? Hah!</td>\n",
       "      <td>Harry Potter and the Sorceror's Stone is one o...</td>\n",
       "      <td>5</td>\n",
       "      <td>58</td>\n",
       "      <td>5</td>\n",
       "      <td>943056000</td>\n",
       "      <td>8.637968</td>\n",
       "    </tr>\n",
       "    <tr>\n",
       "      <th>3005</th>\n",
       "      <td>AYNKNXA92QMN1</td>\n",
       "      <td>B000IEZE3G</td>\n",
       "      <td>I want to go to Hogwarts!</td>\n",
       "      <td>Granted, I lack the basic criterion for being ...</td>\n",
       "      <td>5</td>\n",
       "      <td>83</td>\n",
       "      <td>8</td>\n",
       "      <td>949190400</td>\n",
       "      <td>8.546253</td>\n",
       "    </tr>\n",
       "    <tr>\n",
       "      <th>...</th>\n",
       "      <td>...</td>\n",
       "      <td>...</td>\n",
       "      <td>...</td>\n",
       "      <td>...</td>\n",
       "      <td>...</td>\n",
       "      <td>...</td>\n",
       "      <td>...</td>\n",
       "      <td>...</td>\n",
       "      <td>...</td>\n",
       "    </tr>\n",
       "    <tr>\n",
       "      <th>5600</th>\n",
       "      <td>AVAG7ND5A1NZB</td>\n",
       "      <td>B000IEZE3G</td>\n",
       "      <td>Where is my purchase?</td>\n",
       "      <td>My item was supposed to be delivered to my dor...</td>\n",
       "      <td>1</td>\n",
       "      <td>0</td>\n",
       "      <td>21</td>\n",
       "      <td>1242432000</td>\n",
       "      <td>0.094034</td>\n",
       "    </tr>\n",
       "    <tr>\n",
       "      <th>5599</th>\n",
       "      <td>A1HO9JF4W4JFX5</td>\n",
       "      <td>B000IEZE3G</td>\n",
       "      <td>I'd be happier if it had arrived</td>\n",
       "      <td>This book has not arrived. I have written to t...</td>\n",
       "      <td>1</td>\n",
       "      <td>0</td>\n",
       "      <td>21</td>\n",
       "      <td>1246406400</td>\n",
       "      <td>0.094034</td>\n",
       "    </tr>\n",
       "    <tr>\n",
       "      <th>5598</th>\n",
       "      <td>A14I2NQ6EYV5Y9</td>\n",
       "      <td>B000IEZE3G</td>\n",
       "      <td>Copyright infringment????</td>\n",
       "      <td>This item was very unprofessional and I questi...</td>\n",
       "      <td>1</td>\n",
       "      <td>0</td>\n",
       "      <td>21</td>\n",
       "      <td>1249084800</td>\n",
       "      <td>0.094034</td>\n",
       "    </tr>\n",
       "    <tr>\n",
       "      <th>5602</th>\n",
       "      <td>A2UZI75GS91BMX</td>\n",
       "      <td>B000IEZE3G</td>\n",
       "      <td>LATE</td>\n",
       "      <td>I ordered this book about 25 days ago and it h...</td>\n",
       "      <td>1</td>\n",
       "      <td>0</td>\n",
       "      <td>22</td>\n",
       "      <td>1283040000</td>\n",
       "      <td>0.090110</td>\n",
       "    </tr>\n",
       "    <tr>\n",
       "      <th>403</th>\n",
       "      <td>A1CCQ4QOXVHHQI</td>\n",
       "      <td>B000IEZE3G</td>\n",
       "      <td>not impressed</td>\n",
       "      <td>I picked this book up (from my kids) because, ...</td>\n",
       "      <td>1</td>\n",
       "      <td>1</td>\n",
       "      <td>36</td>\n",
       "      <td>1310342400</td>\n",
       "      <td>0.083221</td>\n",
       "    </tr>\n",
       "  </tbody>\n",
       "</table>\n",
       "<p>6711 rows × 9 columns</p>\n",
       "</div>"
      ],
      "text/plain": [
       "             user_id  product_id  \\\n",
       "3004  A3IB1W0SVED0Z3  B000IEZE3G   \n",
       "3008  A3KZC2TLRZLOA0  B000IEZE3G   \n",
       "3009  A2CQXJ7FPVJTYV  B000IEZE3G   \n",
       "3007            None  B000IEZE3G   \n",
       "3005   AYNKNXA92QMN1  B000IEZE3G   \n",
       "...              ...         ...   \n",
       "5600   AVAG7ND5A1NZB  B000IEZE3G   \n",
       "5599  A1HO9JF4W4JFX5  B000IEZE3G   \n",
       "5598  A14I2NQ6EYV5Y9  B000IEZE3G   \n",
       "5602  A2UZI75GS91BMX  B000IEZE3G   \n",
       "403   A1CCQ4QOXVHHQI  B000IEZE3G   \n",
       "\n",
       "                                               title  \\\n",
       "3004    A magical read&#65533;in more ways than one!   \n",
       "3008     Anniversary Edition nice but not essential.   \n",
       "3009  Harry Potter and the Sorcerer's Stone (Book 1)   \n",
       "3007                                 Ages 9-12? Hah!   \n",
       "3005                       I want to go to Hogwarts!   \n",
       "...                                              ...   \n",
       "5600                           Where is my purchase?   \n",
       "5599                I'd be happier if it had arrived   \n",
       "5598                       Copyright infringment????   \n",
       "5602                                            LATE   \n",
       "403                                    not impressed   \n",
       "\n",
       "                                                 review  rating  upvotes  \\\n",
       "3004  What a wonderful book! I read it after my 11-y...       5       45   \n",
       "3008  In today's economy, customers buying books nee...       5       45   \n",
       "3009  First of all, I am 52 years old. While I have ...       5       35   \n",
       "3007  Harry Potter and the Sorceror's Stone is one o...       5       58   \n",
       "3005  Granted, I lack the basic criterion for being ...       5       83   \n",
       "...                                                 ...     ...      ...   \n",
       "5600  My item was supposed to be delivered to my dor...       1        0   \n",
       "5599  This book has not arrived. I have written to t...       1        0   \n",
       "5598  This item was very unprofessional and I questi...       1        0   \n",
       "5602  I ordered this book about 25 days ago and it h...       1        0   \n",
       "403   I picked this book up (from my kids) because, ...       1        1   \n",
       "\n",
       "      downvotes   timestamp    quality  \n",
       "3004          2   959040000  11.895324  \n",
       "3008          3  1221523200   9.499265  \n",
       "3009          2   950054400   9.372961  \n",
       "3007          5   943056000   8.637968  \n",
       "3005          8   949190400   8.546253  \n",
       "...         ...         ...        ...  \n",
       "5600         21  1242432000   0.094034  \n",
       "5599         21  1246406400   0.094034  \n",
       "5598         21  1249084800   0.094034  \n",
       "5602         22  1283040000   0.090110  \n",
       "403          36  1310342400   0.083221  \n",
       "\n",
       "[6711 rows x 9 columns]"
      ]
     },
     "execution_count": 6,
     "metadata": {},
     "output_type": "execute_result"
    }
   ],
   "source": [
    "print(\"BEST + WORST REVIEWS:\")\n",
    "reviews_by_quality = rev.sort_reviews(reviews)\n",
    "reviews_by_quality"
   ]
  },
  {
   "cell_type": "markdown",
   "metadata": {},
   "source": [
    "Rating quality can have a surprisingly strong effect on overall ratings. Presto's product results filter unhelful reviews by default, which has an especially strong effect for very popular products while only sacrificing small volumes of reviews. Notice how the low ratings all but disappear after removing unhelpful reviews in this case:"
   ]
  },
  {
   "cell_type": "code",
   "execution_count": 25,
   "metadata": {},
   "outputs": [
    {
     "name": "stdout",
     "output_type": "stream",
     "text": [
      "RAW RATINGS:\n"
     ]
    },
    {
     "data": {
      "image/png": "[encoded data removed]",
      "text/plain": [
       "<Figure size 300x300 with 1 Axes>"
      ]
     },
     "metadata": {},
     "output_type": "display_data"
    }
   ],
   "source": [
    "print('RAW RATINGS:')\n",
    "fig = plt.figure(figsize = (3,3))\n",
    "viz.plot_ratings(reviews_by_quality.rating, style = 'bars')"
   ]
  },
  {
   "cell_type": "code",
   "execution_count": 26,
   "metadata": {},
   "outputs": [
    {
     "name": "stdout",
     "output_type": "stream",
     "text": [
      "HELPFUL RATINGS:\n"
     ]
    },
    {
     "data": {
      "image/png": "[encoded data removed]",
      "text/plain": [
       "<Figure size 300x300 with 1 Axes>"
      ]
     },
     "metadata": {},
     "output_type": "display_data"
    }
   ],
   "source": [
    "print(\"HELPFUL RATINGS:\")\n",
    "fig = plt.figure(figsize = (3,3))\n",
    "viz.plot_ratings(reviews_by_quality[reviews_by_quality.quality > 1].rating, style = 'bars')"
   ]
  },
  {
   "cell_type": "markdown",
   "metadata": {},
   "source": [
    "### Rating Visualization\n",
    "\n",
    "Ratings are an excellent example of why we can rarely rely on matplotlib defaults to achieve presentable user-facing results:"
   ]
  },
  {
   "cell_type": "code",
   "execution_count": 7,
   "metadata": {},
   "outputs": [
    {
     "data": {
      "image/png": "[encoded data removed]",
      "text/plain": [
       "<Figure size 640x480 with 1 Axes>"
      ]
     },
     "metadata": {},
     "output_type": "display_data"
    }
   ],
   "source": [
    "rating_counts = reviews.rating.value_counts()\n",
    "bars = plt.barh(rating_counts.index, rating_counts.values)\n",
    "plt.bar_label(bars, rating_counts)\n",
    "plt.title(f'Ratings ({len(reviews)})');\n",
    "plt.savefig('../images/ratings-matplotlib.png')"
   ]
  },
  {
   "cell_type": "markdown",
   "metadata": {},
   "source": [
    "Instead, Presto uses a reusable data viz component to style ratings.\n",
    "\n",
    "We could also use our percent-based bar utility instead:"
   ]
  },
  {
   "cell_type": "code",
   "execution_count": 17,
   "metadata": {},
   "outputs": [
    {
     "data": {
      "image/png": "[encoded data removed]",
      "text/plain": [
       "<Figure size 640x480 with 1 Axes>"
      ]
     },
     "metadata": {},
     "output_type": "display_data"
    }
   ],
   "source": [
    "reviews_norm = reviews.rating.value_counts(normalize = True)\n",
    "viz.plot_rates(reviews_norm.index, reviews_norm, color = 'C1')\n",
    "plt.gca().set(\n",
    "    yticks = range(1,6),\n",
    "    yticklabels = ['★' * x for x in range(1,6)],\n",
    "    xticks = []\n",
    ")\n",
    "plt.gca().spines['bottom'].set_visible(False)"
   ]
  },
  {
   "cell_type": "markdown",
   "metadata": {},
   "source": [
    "This looks quite good, actually. Let's integrate it into the rating widget and make it the new default:"
   ]
  },
  {
   "cell_type": "code",
   "execution_count": 27,
   "metadata": {},
   "outputs": [
    {
     "data": {
      "image/png": "[encoded data removed]",
      "text/plain": [
       "<Figure size 300x300 with 1 Axes>"
      ]
     },
     "metadata": {},
     "output_type": "display_data"
    }
   ],
   "source": [
    "fig = plt.figure(figsize = (3,3))\n",
    "viz.plot_ratings(reviews.rating)"
   ]
  },
  {
   "cell_type": "markdown",
   "metadata": {},
   "source": [
    "## Reviews"
   ]
  },
  {
   "cell_type": "code",
   "execution_count": 10,
   "metadata": {},
   "outputs": [
    {
     "name": "stdout",
     "output_type": "stream",
     "text": [
      "Best reviews:\n",
      "\n",
      "\n"
     ]
    },
    {
     "data": {
      "text/html": [
       "<div>\n",
       "<style scoped>\n",
       "    .dataframe tbody tr th:only-of-type {\n",
       "        vertical-align: middle;\n",
       "    }\n",
       "\n",
       "    .dataframe tbody tr th {\n",
       "        vertical-align: top;\n",
       "    }\n",
       "\n",
       "    .dataframe thead th {\n",
       "        text-align: right;\n",
       "    }\n",
       "</style>\n",
       "<table border=\"1\" class=\"dataframe\">\n",
       "  <thead>\n",
       "    <tr style=\"text-align: right;\">\n",
       "      <th></th>\n",
       "      <th>title</th>\n",
       "      <th>review</th>\n",
       "      <th>quality</th>\n",
       "    </tr>\n",
       "  </thead>\n",
       "  <tbody>\n",
       "    <tr>\n",
       "      <th>3004</th>\n",
       "      <td>A magical read&amp;#65533;in more ways than one!</td>\n",
       "      <td>What a wonderful book! I read it after my 11-y...</td>\n",
       "      <td>11.895324</td>\n",
       "    </tr>\n",
       "    <tr>\n",
       "      <th>3008</th>\n",
       "      <td>Anniversary Edition nice but not essential.</td>\n",
       "      <td>In today's economy, customers buying books nee...</td>\n",
       "      <td>9.499265</td>\n",
       "    </tr>\n",
       "    <tr>\n",
       "      <th>3009</th>\n",
       "      <td>Harry Potter and the Sorcerer's Stone (Book 1)</td>\n",
       "      <td>First of all, I am 52 years old. While I have ...</td>\n",
       "      <td>9.372961</td>\n",
       "    </tr>\n",
       "    <tr>\n",
       "      <th>3007</th>\n",
       "      <td>Ages 9-12? Hah!</td>\n",
       "      <td>Harry Potter and the Sorceror's Stone is one o...</td>\n",
       "      <td>8.637968</td>\n",
       "    </tr>\n",
       "    <tr>\n",
       "      <th>3005</th>\n",
       "      <td>I want to go to Hogwarts!</td>\n",
       "      <td>Granted, I lack the basic criterion for being ...</td>\n",
       "      <td>8.546253</td>\n",
       "    </tr>\n",
       "    <tr>\n",
       "      <th>3001</th>\n",
       "      <td>Magnificiant</td>\n",
       "      <td>Now and then, A book comes along that makes pe...</td>\n",
       "      <td>8.318174</td>\n",
       "    </tr>\n",
       "    <tr>\n",
       "      <th>3000</th>\n",
       "      <td>Our first foray into Potter's world is truly m...</td>\n",
       "      <td>With this introductory novel was published in ...</td>\n",
       "      <td>8.280273</td>\n",
       "    </tr>\n",
       "    <tr>\n",
       "      <th>3002</th>\n",
       "      <td>Three Harry Potter Books in Three Days!</td>\n",
       "      <td>An adult friend (age 49)loaned me three Harry ...</td>\n",
       "      <td>8.029614</td>\n",
       "    </tr>\n",
       "    <tr>\n",
       "      <th>4943</th>\n",
       "      <td>Harry Potter and the Sorcerer's Stone</td>\n",
       "      <td>Harry Potter and the Sorcerer's Stone by J.K. ...</td>\n",
       "      <td>7.207524</td>\n",
       "    </tr>\n",
       "    <tr>\n",
       "      <th>4940</th>\n",
       "      <td>Can I Even Begin with them?</td>\n",
       "      <td>When I first picked up this book it was the ch...</td>\n",
       "      <td>7.207524</td>\n",
       "    </tr>\n",
       "  </tbody>\n",
       "</table>\n",
       "</div>"
      ],
      "text/plain": [
       "                                                  title  \\\n",
       "3004       A magical read&#65533;in more ways than one!   \n",
       "3008        Anniversary Edition nice but not essential.   \n",
       "3009     Harry Potter and the Sorcerer's Stone (Book 1)   \n",
       "3007                                    Ages 9-12? Hah!   \n",
       "3005                          I want to go to Hogwarts!   \n",
       "3001                                       Magnificiant   \n",
       "3000  Our first foray into Potter's world is truly m...   \n",
       "3002            Three Harry Potter Books in Three Days!   \n",
       "4943              Harry Potter and the Sorcerer's Stone   \n",
       "4940                        Can I Even Begin with them?   \n",
       "\n",
       "                                                 review    quality  \n",
       "3004  What a wonderful book! I read it after my 11-y...  11.895324  \n",
       "3008  In today's economy, customers buying books nee...   9.499265  \n",
       "3009  First of all, I am 52 years old. While I have ...   9.372961  \n",
       "3007  Harry Potter and the Sorceror's Stone is one o...   8.637968  \n",
       "3005  Granted, I lack the basic criterion for being ...   8.546253  \n",
       "3001  Now and then, A book comes along that makes pe...   8.318174  \n",
       "3000  With this introductory novel was published in ...   8.280273  \n",
       "3002  An adult friend (age 49)loaned me three Harry ...   8.029614  \n",
       "4943  Harry Potter and the Sorcerer's Stone by J.K. ...   7.207524  \n",
       "4940  When I first picked up this book it was the ch...   7.207524  "
      ]
     },
     "execution_count": 10,
     "metadata": {},
     "output_type": "execute_result"
    }
   ],
   "source": [
    "print('Best reviews:\\n\\n')\n",
    "reviews_by_quality[:10][['title', 'review', 'quality']]"
   ]
  },
  {
   "cell_type": "code",
   "execution_count": 11,
   "metadata": {},
   "outputs": [
    {
     "name": "stdout",
     "output_type": "stream",
     "text": [
      "Worst reviews:\n",
      "\n",
      "\n"
     ]
    },
    {
     "data": {
      "text/html": [
       "<div>\n",
       "<style scoped>\n",
       "    .dataframe tbody tr th:only-of-type {\n",
       "        vertical-align: middle;\n",
       "    }\n",
       "\n",
       "    .dataframe tbody tr th {\n",
       "        vertical-align: top;\n",
       "    }\n",
       "\n",
       "    .dataframe thead th {\n",
       "        text-align: right;\n",
       "    }\n",
       "</style>\n",
       "<table border=\"1\" class=\"dataframe\">\n",
       "  <thead>\n",
       "    <tr style=\"text-align: right;\">\n",
       "      <th></th>\n",
       "      <th>title</th>\n",
       "      <th>review</th>\n",
       "      <th>quality</th>\n",
       "    </tr>\n",
       "  </thead>\n",
       "  <tbody>\n",
       "    <tr>\n",
       "      <th>4852</th>\n",
       "      <td>Dont read</td>\n",
       "      <td>I don't think that you should read this book b...</td>\n",
       "      <td>0.109080</td>\n",
       "    </tr>\n",
       "    <tr>\n",
       "      <th>5777</th>\n",
       "      <td>Not at all like described--bait and switch</td>\n",
       "      <td>I ordered two of these books. I was quite surp...</td>\n",
       "      <td>0.108164</td>\n",
       "    </tr>\n",
       "    <tr>\n",
       "      <th>5776</th>\n",
       "      <td>Smell</td>\n",
       "      <td>Book came with weird smell and didn't include ...</td>\n",
       "      <td>0.108164</td>\n",
       "    </tr>\n",
       "    <tr>\n",
       "      <th>4835</th>\n",
       "      <td>I didn't received this book just now.</td>\n",
       "      <td>Hi,I did't received this item just now.I would...</td>\n",
       "      <td>0.098315</td>\n",
       "    </tr>\n",
       "    <tr>\n",
       "      <th>4834</th>\n",
       "      <td>I don't understand why Henry Potter is so popular</td>\n",
       "      <td>I mean, what's so exciting about witches, or a...</td>\n",
       "      <td>0.098315</td>\n",
       "    </tr>\n",
       "    <tr>\n",
       "      <th>5600</th>\n",
       "      <td>Where is my purchase?</td>\n",
       "      <td>My item was supposed to be delivered to my dor...</td>\n",
       "      <td>0.094034</td>\n",
       "    </tr>\n",
       "    <tr>\n",
       "      <th>5599</th>\n",
       "      <td>I'd be happier if it had arrived</td>\n",
       "      <td>This book has not arrived. I have written to t...</td>\n",
       "      <td>0.094034</td>\n",
       "    </tr>\n",
       "    <tr>\n",
       "      <th>5598</th>\n",
       "      <td>Copyright infringment????</td>\n",
       "      <td>This item was very unprofessional and I questi...</td>\n",
       "      <td>0.094034</td>\n",
       "    </tr>\n",
       "    <tr>\n",
       "      <th>5602</th>\n",
       "      <td>LATE</td>\n",
       "      <td>I ordered this book about 25 days ago and it h...</td>\n",
       "      <td>0.090110</td>\n",
       "    </tr>\n",
       "    <tr>\n",
       "      <th>403</th>\n",
       "      <td>not impressed</td>\n",
       "      <td>I picked this book up (from my kids) because, ...</td>\n",
       "      <td>0.083221</td>\n",
       "    </tr>\n",
       "  </tbody>\n",
       "</table>\n",
       "</div>"
      ],
      "text/plain": [
       "                                                  title  \\\n",
       "4852                                          Dont read   \n",
       "5777         Not at all like described--bait and switch   \n",
       "5776                                              Smell   \n",
       "4835              I didn't received this book just now.   \n",
       "4834  I don't understand why Henry Potter is so popular   \n",
       "5600                              Where is my purchase?   \n",
       "5599                   I'd be happier if it had arrived   \n",
       "5598                          Copyright infringment????   \n",
       "5602                                               LATE   \n",
       "403                                       not impressed   \n",
       "\n",
       "                                                 review   quality  \n",
       "4852  I don't think that you should read this book b...  0.109080  \n",
       "5777  I ordered two of these books. I was quite surp...  0.108164  \n",
       "5776  Book came with weird smell and didn't include ...  0.108164  \n",
       "4835  Hi,I did't received this item just now.I would...  0.098315  \n",
       "4834  I mean, what's so exciting about witches, or a...  0.098315  \n",
       "5600  My item was supposed to be delivered to my dor...  0.094034  \n",
       "5599  This book has not arrived. I have written to t...  0.094034  \n",
       "5598  This item was very unprofessional and I questi...  0.094034  \n",
       "5602  I ordered this book about 25 days ago and it h...  0.090110  \n",
       "403   I picked this book up (from my kids) because, ...  0.083221  "
      ]
     },
     "execution_count": 11,
     "metadata": {},
     "output_type": "execute_result"
    }
   ],
   "source": [
    "print('Worst reviews:\\n\\n')\n",
    "reviews_by_quality[-10:][['title', 'review', 'quality']]"
   ]
  },
  {
   "cell_type": "code",
   "execution_count": 12,
   "metadata": {},
   "outputs": [
    {
     "name": "stdout",
     "output_type": "stream",
     "text": [
      "Best review:\n",
      "\n",
      "\n",
      "What a wonderful book! I read it after my 11-year old son suggested it as a change from my usual reading fare of history and biography.\n",
      " It turned out to be much more than just a springtime reading diversion.\n",
      ".\n",
      ".\n",
      "it became for me a &quot;magical&quot; reading experience in more ways than one.\n",
      " I was quickly captivated by Harry, Hagrid, Dumbledore, Hermoine, and yes, even the nasty Dursleys, Snape, and Draco Mafoy.\n",
      " Hogwarts came to life for me.\n",
      " I found myself unable to put the book down because it was so exciting and much fun to read! It's easy to understand why my son (and so many kids just like him) love Harry Potter so much.\n",
      "J.\n",
      "K.\n",
      " Rowling proves herself a gifted writer of children's books, not only because the plot is good and the characters come to life, but also because her writing fires the imagination and teaches positive values.\n",
      "&quot;Harry Potter and the Sorcerer's Stone&quot; is a great book for kids of all ages.\n",
      ".\n",
      ".\n",
      "from 9 to 99.\n",
      " It's destined to be a classic of children's literature.\n",
      "\n"
     ]
    }
   ],
   "source": [
    "print(\"Best review:\\n\\n\")\n",
    "print(reviews_by_quality.iloc[0].review.replace('.', '.\\n'))"
   ]
  },
  {
   "cell_type": "code",
   "execution_count": 13,
   "metadata": {},
   "outputs": [
    {
     "name": "stdout",
     "output_type": "stream",
     "text": [
      "Worst review:\n",
      "\n",
      "\n",
      "I picked this book up (from my kids) because, while reading reviews of the Twilight Saga, it was constantly being compared (unfairly, in my opinion) to HP.\n",
      " I have seen and LOVED all the HP movies, and consider myself an HP fan, but, this first book is a major disappointment.\n",
      "I was expecting much better writing, more descriptive story telling and better characters.\n",
      " I am not finished with the book yet, and I will finish it, but I am not too sure I will finish the series.\n",
      "To be fair, my 10 year old did tell me it was kinda boring, but he has read it 3 times.\n",
      ".\n",
      ".\n",
      " maybe I need to introduce him to the rest of my library! It has some fabulous fantasy in it.\n",
      " MUCH better than this.\n",
      "This is the rare case where the movies are FAR superior to the books.\n",
      "\n"
     ]
    }
   ],
   "source": [
    "print(\"Worst review:\\n\\n\")\n",
    "print(reviews_by_quality.iloc[-1].review.replace('.', '.\\n'))"
   ]
  },
  {
   "cell_type": "markdown",
   "metadata": {},
   "source": [
    "## Future Enhancements\n",
    "\n",
    "Conducting **natural language processing** on user reviews could be a great way to enhance a product recommendation page. What high-sentiment adjectives are users using to describe this product? What other artists or products are reviewers mentioning? Etc.\n",
    "\n",
    "While this was a goal for the original vision of Presto, the data-intensive nature of the project warranted a shift to focus on how to design and develop a performant SQL architecture for products and reviews instead."
   ]
  },
  {
   "cell_type": "markdown",
   "metadata": {},
   "source": [
    "## Close Connection"
   ]
  },
  {
   "cell_type": "code",
   "execution_count": 14,
   "metadata": {},
   "outputs": [],
   "source": [
    "conn.close()"
   ]
  }
 ],
 "metadata": {
  "kernelspec": {
   "display_name": "base",
   "language": "python",
   "name": "python3"
  },
  "language_info": {
   "codemirror_mode": {
    "name": "ipython",
    "version": 3
   },
   "file_extension": ".py",
   "mimetype": "text/x-python",
   "name": "python",
   "nbconvert_exporter": "python",
   "pygments_lexer": "ipython3",
   "version": "3.12.4"
  }
 },
 "nbformat": 4,
 "nbformat_minor": 2
}
