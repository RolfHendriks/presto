{
 "cells": [
  {
   "cell_type": "markdown",
   "metadata": {},
   "source": [
    "# Demo\n",
    "Let's put everything together by simulating a user-facing demo:\n",
    "- Pick a category (books, music)\n",
    "- Enter a search term\n",
    "- Get a page full of results"
   ]
  },
  {
   "cell_type": "code",
   "execution_count": null,
   "metadata": {},
   "outputs": [],
   "source": [
    "import time\n",
    "\n",
    "import matplotlib.pyplot as plt\n",
    "import pandas as pd\n",
    "\n",
    "import shared.query as q\n",
    "import shared.viz as viz\n",
    "import shared.format as format\n",
    "\n",
    "viz.set_style()\n",
    "# to do: download database from a remote source so that the project can run in public\n",
    "conn = q.connect()"
   ]
  },
  {
   "cell_type": "code",
   "execution_count": null,
   "metadata": {},
   "outputs": [
    {
     "data": {
      "text/plain": [
       "{'Book': 212397, 'Album': 768224, 'Author': 126335, 'Artist': 206210}"
      ]
     },
     "execution_count": 2,
     "metadata": {},
     "output_type": "execute_result"
    }
   ],
   "source": [
    "# Overall counts:\n",
    "# Showcase the size of our underlying data by precomputing summary stats to display\n",
    "counts = {\n",
    "    \"Book\": pd.read_sql(\"SELECT COUNT(*) FROM product WHERE category = 'Books'\", conn).iloc[0,0],\n",
    "    \"Album\": pd.read_sql(\"SELECT COUNT(*) FROM product WHERE category = 'Music'\", conn).iloc[0,0],\n",
    "    \"Author\": pd.read_sql(\"SELECT COUNT(DISTINCT(creator_search)) FROM product WHERE category = 'Books'\", conn).iloc[0,0],\n",
    "    \"Artist\": pd.read_sql(\"SELECT COUNT(DISTINCT(creator_search)) FROM product WHERE category = 'Music'\", conn).iloc[0,0]\n",
    "}\n",
    "counts"
   ]
  },
  {
   "cell_type": "code",
   "execution_count": null,
   "metadata": {},
   "outputs": [
    {
     "name": "stdout",
     "output_type": "stream",
     "text": [
      "Found 0 of 206.2K Artists in 0.002 seconds\n"
     ]
    }
   ],
   "source": [
    "# Search settings\n",
    "type = 'Artist' # possibilities: Book, Album, Artist, Author\n",
    "search = 'George Orwell'\n",
    "exact_match = True\n",
    "\n",
    "# recommender settings\n",
    "recommendation_count = 10\n",
    "recommender_user_pool_size = 100\n",
    "recommender_product_pool_size = 1_000\n",
    "verbosity = 0\n",
    "\n",
    "###################################\n",
    "# Recommendations\n",
    "##################################\n",
    "assert(type in set(['Artist', 'Album', 'Author', 'Book']))\n",
    "category = 'Books' if type in ('Author', 'Book') else 'Music'\n",
    "search_field = 'title' if type in ('Album', 'Book') else 'title'\n",
    "t = time.perf_counter()\n",
    "results = q.get_recommendations(category, search, conn, search_field = search_field, verbosity = verbosity)\n",
    "elapsed = time.perf_counter() - t\n",
    "\n",
    "products = results['results']\n",
    "print(f\"Found {len(products)} of {format.describe_number(counts[type])} {type}s in {elapsed:.3f} seconds\")\n",
    "\n",
    "##################################\n",
    "# Viz\n",
    "#################################\n"
   ]
  }
 ],
 "metadata": {
  "kernelspec": {
   "display_name": "base",
   "language": "python",
   "name": "python3"
  },
  "language_info": {
   "codemirror_mode": {
    "name": "ipython",
    "version": 3
   },
   "file_extension": ".py",
   "mimetype": "text/x-python",
   "name": "python",
   "nbconvert_exporter": "python",
   "pygments_lexer": "ipython3",
   "version": "3.12.4"
  }
 },
 "nbformat": 4,
 "nbformat_minor": 2
}
